{
 "cells": [
  {
   "cell_type": "raw",
   "id": "62205784-6953-4caa-b9da-6054a5da7df6",
   "metadata": {},
   "source": [
    "1. What are escape characters, and how do you use them?\n",
    "\n",
    "         In Python strings, the backslash \"\" is a special character, also called the \"escape\" character. It is used in representing certain whitespace characters: \"\\t\" is a tab, \"\\n\" is a newline, and \"\\r\" is a carriage return."
   ]
  },
  {
   "cell_type": "code",
   "execution_count": 1,
   "id": "ad075137-af87-4414-8761-a1813fd234c3",
   "metadata": {},
   "outputs": [
    {
     "name": "stdout",
     "output_type": "stream",
     "text": [
      "my name is\n"
     ]
    }
   ],
   "source": [
    "print(\"my \\\n",
    "name \\\n",
    "is\")"
   ]
  },
  {
   "cell_type": "raw",
   "id": "5c474ff1-4bf8-400d-93a0-d3afc0c407cb",
   "metadata": {},
   "source": [
    "2. What do the escape characters n and t stand for?\n",
    "\n",
    "           \\n is a newline; \\t is a tab."
   ]
  },
  {
   "cell_type": "code",
   "execution_count": 4,
   "id": "9f79e7c4-894f-49bb-8117-40ddcd9d6b68",
   "metadata": {},
   "outputs": [
    {
     "name": "stdout",
     "output_type": "stream",
     "text": [
      "Hello\n",
      "World!\n"
     ]
    }
   ],
   "source": [
    "txt = \"Hello\\nWorld!\"\n",
    "print(txt) "
   ]
  },
  {
   "cell_type": "code",
   "execution_count": 5,
   "id": "99b59f6e-3f6c-454a-9f5b-d1d1befcdce7",
   "metadata": {},
   "outputs": [
    {
     "name": "stdout",
     "output_type": "stream",
     "text": [
      "Hello\tWorld!\n"
     ]
    }
   ],
   "source": [
    "txt = \"Hello\\tWorld!\"\n",
    "print(txt) "
   ]
  },
  {
   "cell_type": "raw",
   "id": "f4fed31c-7d2d-4046-98cf-7f208fc5bcbb",
   "metadata": {},
   "source": [
    "3. What is the way to include backslash characters in a string?\n",
    "\n",
    "       The \\\\ escape character will represent a backslash character."
   ]
  },
  {
   "cell_type": "code",
   "execution_count": 6,
   "id": "d19aac53-e893-4c8d-96a2-c42b4e841197",
   "metadata": {},
   "outputs": [
    {
     "name": "stdout",
     "output_type": "stream",
     "text": [
      "This will insert one \\ (backslash).\n"
     ]
    }
   ],
   "source": [
    "txt = \"This will insert one \\\\ (backslash).\"\n",
    "print(txt) "
   ]
  },
  {
   "cell_type": "raw",
   "id": "3bfb30f0-c48e-4d49-acb3-ba14d729f45b",
   "metadata": {},
   "source": [
    "4. The string \"Howl's Moving Castle\" is a correct value. Why isn't the single quote character in the\n",
    "word Howl's not escaped a problem?\n",
    "\n",
    "      The single quote in Howl's is fine because you've used double quotes to mark the beginning and end of the string."
   ]
  },
  {
   "cell_type": "code",
   "execution_count": 7,
   "id": "3c6ab031-5f83-4f39-bab3-7c9a9894a987",
   "metadata": {},
   "outputs": [
    {
     "name": "stdout",
     "output_type": "stream",
     "text": [
      "Howl's Moving Castle\n"
     ]
    }
   ],
   "source": [
    "print(\"Howl's Moving Castle\")"
   ]
  },
  {
   "cell_type": "raw",
   "id": "3c7d808a-c7f1-4d5c-9f2a-759faf6c6254",
   "metadata": {},
   "source": [
    "5. How do you write a string of newlines if you don't want to use the n character?\n",
    "\n",
    "       Multiline strings allow you to use newlines in strings without the \\n escape character."
   ]
  },
  {
   "cell_type": "code",
   "execution_count": 8,
   "id": "e9f2d590-f89f-4926-9347-42f0da868517",
   "metadata": {},
   "outputs": [
    {
     "name": "stdout",
     "output_type": "stream",
     "text": [
      "Hello! Welcome to Python!\n"
     ]
    }
   ],
   "source": [
    "print(\"Hello!\", end=' ')\n",
    "print(\"Welcome to Python!\")"
   ]
  },
  {
   "cell_type": "raw",
   "id": "18f6d16c-d4f7-4ba6-9546-e075c19737a9",
   "metadata": {},
   "source": [
    "6. What are the values of the given expressions?\n",
    "'Hello, world!'[1]\n",
    "'Hello, world!'[0:5]\n",
    "'Hello, world!'[:5]\n",
    "'Hello, world!'[3:]\n",
    "\n",
    "      'e'\n",
    "\n",
    "      'Hello'\n",
    "\n",
    "      'Hello'\n",
    "\n",
    "      'lo world!"
   ]
  },
  {
   "cell_type": "code",
   "execution_count": 9,
   "id": "47a5c53a-194d-4b9c-81e6-1bd6e2ec2e48",
   "metadata": {},
   "outputs": [
    {
     "name": "stdout",
     "output_type": "stream",
     "text": [
      "e\n"
     ]
    }
   ],
   "source": [
    "print('Hello, world!'[1])"
   ]
  },
  {
   "cell_type": "code",
   "execution_count": 10,
   "id": "e9b3fae1-b390-4be9-ad50-ed2a33cb8112",
   "metadata": {},
   "outputs": [
    {
     "name": "stdout",
     "output_type": "stream",
     "text": [
      "Hello\n"
     ]
    }
   ],
   "source": [
    "print('Hello, world!'[0:5])"
   ]
  },
  {
   "cell_type": "code",
   "execution_count": 11,
   "id": "b707aeae-ffc4-4096-ae03-e9f41786a081",
   "metadata": {},
   "outputs": [
    {
     "name": "stdout",
     "output_type": "stream",
     "text": [
      "Hello\n"
     ]
    }
   ],
   "source": [
    "print('Hello, world!'[:5])"
   ]
  },
  {
   "cell_type": "code",
   "execution_count": 12,
   "id": "f316fb8d-1496-4059-9085-c89e480a58e8",
   "metadata": {},
   "outputs": [
    {
     "name": "stdout",
     "output_type": "stream",
     "text": [
      "lo, world!\n"
     ]
    }
   ],
   "source": [
    "print('Hello, world!'[3:])"
   ]
  },
  {
   "cell_type": "raw",
   "id": "72461611-3623-4e67-974f-74acbbcf3198",
   "metadata": {},
   "source": [
    "7. What are the values of the following expressions?\n",
    "'Hello'.upper()\n",
    "'Hello'.upper().isupper()\n",
    "'Hello'.upper().lower()\n",
    "\n",
    "     The expressions evaluate to the following:\n",
    "\n",
    "               'HELLO'\n",
    "\n",
    "                True\n",
    "\n",
    "               'hello'"
   ]
  },
  {
   "cell_type": "code",
   "execution_count": 13,
   "id": "0901e27b-af20-4048-b518-2d80fc5ccb14",
   "metadata": {},
   "outputs": [
    {
     "name": "stdout",
     "output_type": "stream",
     "text": [
      "HELLO\n"
     ]
    }
   ],
   "source": [
    "print('Hello'.upper())"
   ]
  },
  {
   "cell_type": "code",
   "execution_count": 14,
   "id": "4613d58a-2c61-4854-aed9-87faf7398238",
   "metadata": {},
   "outputs": [
    {
     "name": "stdout",
     "output_type": "stream",
     "text": [
      "True\n"
     ]
    }
   ],
   "source": [
    "print('Hello'.upper().isupper())"
   ]
  },
  {
   "cell_type": "code",
   "execution_count": 15,
   "id": "de4a8893-93a6-4f9f-8e4e-6f25789cf3f9",
   "metadata": {},
   "outputs": [
    {
     "name": "stdout",
     "output_type": "stream",
     "text": [
      "hello\n"
     ]
    }
   ],
   "source": [
    "print('Hello'.upper().lower())"
   ]
  },
  {
   "cell_type": "raw",
   "id": "bcd2af57-bec6-4705-a414-1a362fc40bd4",
   "metadata": {},
   "source": [
    "8. What are the values of the following expressions?\n",
    "'Remember, remember, the fifth of July.'.split()\n",
    "'-'.join('There can only one.'.split())"
   ]
  },
  {
   "cell_type": "code",
   "execution_count": 1,
   "id": "6e5ad41b-a71a-4bce-aeaa-04e2e5369220",
   "metadata": {},
   "outputs": [
    {
     "name": "stdout",
     "output_type": "stream",
     "text": [
      "['Remember,', 'remember,', 'the', 'fifth', 'of', 'July.']\n"
     ]
    }
   ],
   "source": [
    "print('Remember, remember, the fifth of July.'.split())"
   ]
  },
  {
   "cell_type": "code",
   "execution_count": 2,
   "id": "f162fe07-f346-455b-9325-de1d737160af",
   "metadata": {},
   "outputs": [
    {
     "name": "stdout",
     "output_type": "stream",
     "text": [
      "There-can-only-one.\n"
     ]
    }
   ],
   "source": [
    "print('-'.join('There can only one.'.split()))"
   ]
  },
  {
   "cell_type": "raw",
   "id": "63fc1a90-23c5-4bb1-8c36-1d7d6e1cf35e",
   "metadata": {},
   "source": [
    "9. What are the methods for right-justifying, left-justifying, and centering a string?\n",
    "\n",
    "       The rjust(), ljust(), and center() string methods, respectively"
   ]
  },
  {
   "cell_type": "code",
   "execution_count": 3,
   "id": "bbd2d633-f23a-4f3c-9e17-37702e8d07f3",
   "metadata": {},
   "outputs": [
    {
     "data": {
      "text/plain": [
       "'Brillia---'"
      ]
     },
     "execution_count": 3,
     "metadata": {},
     "output_type": "execute_result"
    }
   ],
   "source": [
    "# left justified\n",
    "str =\"Brillia\"\n",
    "str.ljust(10,\"-\")     "
   ]
  },
  {
   "cell_type": "code",
   "execution_count": 4,
   "id": "47b9afc5-a017-416b-8208-0c5295d009c6",
   "metadata": {},
   "outputs": [
    {
     "data": {
      "text/plain": [
       "'-----------------------Brillia'"
      ]
     },
     "execution_count": 4,
     "metadata": {},
     "output_type": "execute_result"
    }
   ],
   "source": [
    "# right justified\n",
    "str =\"Brillia\"\n",
    "str.rjust(30,\"-\")     "
   ]
  },
  {
   "cell_type": "code",
   "execution_count": 5,
   "id": "2e040a8d-98eb-4f53-b0c5-1a88811813db",
   "metadata": {},
   "outputs": [
    {
     "data": {
      "text/plain": [
       "'****************Brillia*****************'"
      ]
     },
     "execution_count": 5,
     "metadata": {},
     "output_type": "execute_result"
    }
   ],
   "source": [
    "# center justified\n",
    "str =\"Brillia\"\n",
    "str.center(40,'*')"
   ]
  },
  {
   "cell_type": "raw",
   "id": "42367513-b33a-4d2d-a197-21705da86d08",
   "metadata": {},
   "source": [
    "10. What is the best way to remove whitespace characters from the start or end?\n",
    "\n",
    "        The lstrip() and rstrip() methods remove whitespace from the left and right ends of a string, respectively."
   ]
  },
  {
   "cell_type": "code",
   "execution_count": 9,
   "id": "42ab7f40-2c3d-4f29-9ee4-52381dcb82d0",
   "metadata": {},
   "outputs": [
    {
     "data": {
      "text/plain": [
       "'My name is Brillia  '"
      ]
     },
     "execution_count": 9,
     "metadata": {},
     "output_type": "execute_result"
    }
   ],
   "source": [
    "str =\"    My name is Brillia  \"\n",
    "str.lstrip()"
   ]
  },
  {
   "cell_type": "code",
   "execution_count": 10,
   "id": "650bc592-2d1f-45b8-90a8-24fdd582cdd7",
   "metadata": {},
   "outputs": [
    {
     "data": {
      "text/plain": [
       "'  My name is Brillia'"
      ]
     },
     "execution_count": 10,
     "metadata": {},
     "output_type": "execute_result"
    }
   ],
   "source": [
    "str =\"  My name is Brillia     \"\n",
    "str.rstrip()"
   ]
  }
 ],
 "metadata": {
  "kernelspec": {
   "display_name": "Python 3 (ipykernel)",
   "language": "python",
   "name": "python3"
  },
  "language_info": {
   "codemirror_mode": {
    "name": "ipython",
    "version": 3
   },
   "file_extension": ".py",
   "mimetype": "text/x-python",
   "name": "python",
   "nbconvert_exporter": "python",
   "pygments_lexer": "ipython3",
   "version": "3.10.6"
  }
 },
 "nbformat": 4,
 "nbformat_minor": 5
}
